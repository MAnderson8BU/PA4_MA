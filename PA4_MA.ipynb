{
 "cells": [
  {
   "cell_type": "markdown",
   "id": "262241b1",
   "metadata": {},
   "source": [
    "### Mason Anderson\n",
    "### PA 4\n",
    "### Cs150\n",
    "### Version 1 \n",
    "### Fall 2023"
   ]
  },
  {
   "cell_type": "markdown",
   "id": "4543c868",
   "metadata": {},
   "source": [
    "### Task 1: Grade calculator\n",
    "### create a list, calculate the average grade of the list and use if else condition to determine grade letter"
   ]
  },
  {
   "cell_type": "code",
   "execution_count": 6,
   "id": "add78593",
   "metadata": {},
   "outputs": [
    {
     "name": "stdout",
     "output_type": "stream",
     "text": [
      "The average grade is: 84.0\n",
      "B\n"
     ]
    }
   ],
   "source": [
    "grades=[88,91,67,96,78]\n",
    "avg_grades=(sum(grades)/len(grades))\n",
    "print(f\"The average grade is: {avg_grade}\")\n",
    "if avg_grades>=90 and avg_grades<=100:\n",
    "    print(\"A\")\n",
    "elif avg_grades<=89 and avg_grades>=80:\n",
    "    print(\"B\")\n",
    "elif avg_grades<=79 and avg_grades>=70:\n",
    "    print(\"C\")\n",
    "elif avg_grades<=69 and avg_grades>=60:\n",
    "    print(\"D\")\n",
    "else:\n",
    "    print(\"F\")"
   ]
  },
  {
   "cell_type": "markdown",
   "id": "1b9ac7d5",
   "metadata": {},
   "source": [
    "### Task 2: Tuple Unpacking\n",
    "### create a tuple, use unpacking and if else condition to check if age >18 and print message corresponding to outcome"
   ]
  },
  {
   "cell_type": "code",
   "execution_count": 29,
   "id": "da392263",
   "metadata": {},
   "outputs": [
    {
     "name": "stdout",
     "output_type": "stream",
     "text": [
      "First name:  Mason\n",
      "Last name:  Anderson\n",
      "Age:  21\n",
      "Subject:  Economics\n",
      "The student is an adult\n"
     ]
    }
   ],
   "source": [
    "student=('Mason','Anderson',21,'Economics')\n",
    "first,last,age,subject=student\n",
    "print(\"First name: \",first)\n",
    "print(\"Last name: \",last)\n",
    "print(\"Age: \",age)\n",
    "print(\"Subject: \",subject)\n",
    "#type(age)\n",
    "if age>=18:\n",
    "    print(\"The student is an adult\")\n",
    "else:\n",
    "    print(\"The student is a minor\")"
   ]
  },
  {
   "cell_type": "markdown",
   "id": "77c799e6",
   "metadata": {},
   "source": [
    "### Task 3: Month and Date\n",
    "### Write python program that will accept a number from 1 to 12 and display the name of the month and days in the month consider that the year is a regular year."
   ]
  },
  {
   "cell_type": "code",
   "execution_count": 15,
   "id": "ce82078d",
   "metadata": {},
   "outputs": [
    {
     "name": "stdout",
     "output_type": "stream",
     "text": [
      "Enter the number for a month: 12\n",
      "December\n",
      "The month has 31 days\n"
     ]
    }
   ],
   "source": [
    "month=int(input(\"Enter the number for a month: \"))\n",
    "if month==1:\n",
    "    print(\"January\")\n",
    "    print(\"The month has 31 days\")\n",
    "elif month==2:\n",
    "    print(\"February\")\n",
    "    print(\"The month has 28 days\")\n",
    "elif month==3:\n",
    "    print(\"March\")\n",
    "    print(\"The month has 31 days\")\n",
    "elif month==4:\n",
    "    print(\"April\")\n",
    "    print(\"The month has 30 days\")\n",
    "elif month==5:\n",
    "    print(\"May\")\n",
    "    print(\"The month has 31 days\")\n",
    "elif month==6:\n",
    "    print(\"June\")\n",
    "    print(\"The month has 30 days\")\n",
    "elif month==7:\n",
    "    print(\"July\")\n",
    "    print(\"The month has 31 days\")\n",
    "elif month==8:\n",
    "    print(\"August\")\n",
    "    print(\"The month has 31 days\")\n",
    "elif month==9:\n",
    "    print(\"September\")\n",
    "    print(\"The month has 30 days\")\n",
    "elif month==10:\n",
    "    print(\"October\")\n",
    "    print(\"The month has 31 days\")\n",
    "elif month==11:\n",
    "    print(\"November\")\n",
    "    print(\"The month has 30 days\")\n",
    "elif month==12:\n",
    "    print(\"December\")\n",
    "    print(\"The month has 31 days\")\n",
    "else:\n",
    "    print(\"Enter a valid month\")"
   ]
  },
  {
   "cell_type": "markdown",
   "id": "55f41aa7",
   "metadata": {},
   "source": [
    "### Task 4: Triangle\n",
    "### Accept three sides of a triangle and determine if it is equilateral, isosceles, or scalene"
   ]
  },
  {
   "cell_type": "code",
   "execution_count": 23,
   "id": "f9975467",
   "metadata": {},
   "outputs": [
    {
     "name": "stdout",
     "output_type": "stream",
     "text": [
      "Enter side1: 2\n",
      "Enter side2: 3\n",
      "Enter side3: 4\n",
      "The triangle is a scalene triangle\n"
     ]
    }
   ],
   "source": [
    "side1=int(input(\"Enter side1: \"))\n",
    "side2=int(input(\"Enter side2: \"))\n",
    "side3=int(input(\"Enter side3: \"))\n",
    "if side1==side2 and side1==side3 and side2==side3:\n",
    "    print(\"The triangle is an equilateral triangle\")\n",
    "if side1==side2 and side1!=side3 or side1==side3 and side1!=side2:\n",
    "    print(\"The triangle is an isosceles triangle\")\n",
    "if side1!=side2 and side1!=side3 and side2!=side3:\n",
    "    print(\"The triangle is a scalene triangle\")\n",
    "else:\n",
    "    print(\" \")"
   ]
  },
  {
   "cell_type": "markdown",
   "id": "c3deb3c1",
   "metadata": {},
   "source": [
    "### Task 5: List Comprehension and Filtering\n",
    "### Create a list of numbers, a new list containing even squares and another list of odd cubes"
   ]
  },
  {
   "cell_type": "code",
   "execution_count": 28,
   "id": "a8dc1f4e",
   "metadata": {},
   "outputs": [
    {
     "name": "stdout",
     "output_type": "stream",
     "text": [
      "Numbers [21, 22, 23, 24, 25, 26, 27, 28, 29, 30, 31, 32, 33, 34, 35, 36, 37, 38, 39, 40]\n",
      "Even squares [484, 576, 676, 784, 900, 1024, 1156, 1296, 1444, 1600]\n",
      "Odd cubes [9261, 12167, 15625, 19683, 24389, 29791, 35937, 42875, 50653, 59319]\n"
     ]
    }
   ],
   "source": [
    "numbers=[i for i in range(21,41)]\n",
    "print(\"Numbers\",numbers)\n",
    "even_squares=[i**2 for i in range(22,41,2)]\n",
    "print(\"Even squares\",even_squares)\n",
    "odd_cubes=[i**3 for i in range(21,41,2)]\n",
    "print(\"Odd cubes\",odd_cubes)"
   ]
  },
  {
   "cell_type": "code",
   "execution_count": null,
   "id": "1bf2cd3c",
   "metadata": {},
   "outputs": [],
   "source": []
  }
 ],
 "metadata": {
  "kernelspec": {
   "display_name": "Python 3 (ipykernel)",
   "language": "python",
   "name": "python3"
  },
  "language_info": {
   "codemirror_mode": {
    "name": "ipython",
    "version": 3
   },
   "file_extension": ".py",
   "mimetype": "text/x-python",
   "name": "python",
   "nbconvert_exporter": "python",
   "pygments_lexer": "ipython3",
   "version": "3.11.4"
  }
 },
 "nbformat": 4,
 "nbformat_minor": 5
}
